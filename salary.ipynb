{
 "cells": [
  {
   "cell_type": "code",
   "execution_count": null,
   "metadata": {},
   "outputs": [],
   "source": []
  },
  {
   "cell_type": "code",
   "execution_count": null,
   "metadata": {},
   "outputs": [],
   "source": [
    "import pandas as pd\n",
    "import numpy as np\n",
    "from sklearn.model_selection import train_test_split\n",
    "from sklearn.linear_model import LinearRegression\n",
    "from sklearn.metrics import mean_squared_error, r2_score\n",
    "import ttkbootstrap as ttk\n",
    "from ttkbootstrap.constants import *"
   ]
  },
  {
   "cell_type": "code",
   "execution_count": null,
   "metadata": {},
   "outputs": [],
   "source": [
    "#Load and Prepare the Dataset from CSV\n",
    "df = pd.read_csv('salary_data.csv')"
   ]
  },
  {
   "cell_type": "code",
   "execution_count": null,
   "metadata": {},
   "outputs": [],
   "source": [
    "#Splitting the dataset into training and testing sets\n",
    "X = df[['YearsExperience']]\n",
    "y = df['Salary']\n",
    "X_train, X_test, y_train, y_test = train_test_split(X, y, test_size=0.2, random_state=42)"
   ]
  },
  {
   "cell_type": "code",
   "execution_count": null,
   "metadata": {},
   "outputs": [],
   "source": [
    "# Creating the model\n",
    "model = LinearRegression()\n",
    "model.fit(X_train, y_train)\n"
   ]
  },
  {
   "cell_type": "code",
   "execution_count": null,
   "metadata": {},
   "outputs": [],
   "source": [
    "# Testing the model\n",
    "y_pred = model.predict(X_test)\n",
    "print(\"Mean squared error: %.2f\" % mean_squared_error(y_test, y_pred))\n",
    "print('R2 score: %.2f' % r2_score(y_test, y_pred))\n"
   ]
  },
  {
   "cell_type": "code",
   "execution_count": null,
   "metadata": {},
   "outputs": [],
   "source": [
    "# Step 4: Build the Stylish GUI\n",
    "def predict_salary():\n",
    "    try:\n",
    "        years_experience = float(entry.get())\n",
    "        prediction = model.predict(np.array([[years_experience]]))[0]\n",
    "        messagebox.showinfo(\"Predicted Salary\", f\"The predicted salary is: RS: {prediction:.2f}\")\n",
    "    except ValueError:\n",
    "        messagebox.showerror(\"Invalid input\", \"Please enter a valid number\")"
   ]
  },
  {
   "cell_type": "code",
   "execution_count": null,
   "metadata": {},
   "outputs": [],
   "source": [
    "# Creating the GUI\n",
    "root = ttk.Window(themename=\"superhero\")  # You can change the theme to \"cosmo\", \"minty\", \"solar\", etc.\n",
    "root.title(\"Salary Prediction\")\n"
   ]
  },
  {
   "cell_type": "code",
   "execution_count": null,
   "metadata": {},
   "outputs": [],
   "source": [
    "# Styling\n",
    "style = ttk.Style()\n",
    "style.configure('TLabel', font=('Helvetica', 12))\n",
    "style.configure('TEntry', font=('Helvetica', 12))\n",
    "style.configure('TButton', font=('Helvetica', 12))\n"
   ]
  },
  {
   "cell_type": "code",
   "execution_count": null,
   "metadata": {},
   "outputs": [],
   "source": [
    "# Creating Widgets\n",
    "title_label = ttk.Label(root, text=\"Salary Prediction Based on Years of Experience\", font=('Helvetica', 16, 'bold'))\n",
    "title_label.pack(pady=20)\n",
    "\n",
    "frame = ttk.Frame(root)\n",
    "frame.pack(pady=10)\n",
    "\n",
    "years_label = ttk.Label(frame, text=\"Years of Experience:\")\n",
    "years_label.grid(row=0, column=0, padx=10, pady=10)\n",
    "\n",
    "entry = ttk.Entry(frame, width=20)\n",
    "entry.grid(row=0, column=1, padx=10, pady=10)\n",
    "\n",
    "predict_button = ttk.Button(root, text='Predict', command=predict_salary, bootstyle=SUCCESS)\n",
    "predict_button.pack(pady=20)\n"
   ]
  },
  {
   "cell_type": "code",
   "execution_count": null,
   "metadata": {},
   "outputs": [],
   "source": [
    "# Run the GUI\n",
    "root.mainloop()"
   ]
  }
 ],
 "metadata": {
  "kernelspec": {
   "display_name": "base",
   "language": "python",
   "name": "python3"
  },
  "language_info": {
   "codemirror_mode": {
    "name": "ipython",
    "version": 3
   },
   "file_extension": ".py",
   "mimetype": "text/x-python",
   "name": "python",
   "nbconvert_exporter": "python",
   "pygments_lexer": "ipython3",
   "version": "3.12.4"
  }
 },
 "nbformat": 4,
 "nbformat_minor": 2
}
